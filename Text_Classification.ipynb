{
  "nbformat": 4,
  "nbformat_minor": 0,
  "metadata": {
    "colab": {
      "provenance": []
    },
    "kernelspec": {
      "name": "python3",
      "display_name": "Python 3"
    },
    "language_info": {
      "name": "python"
    }
  },
  "cells": [
    {
      "cell_type": "markdown",
      "source": [
        "#Text Classification Using Neural Network Model"
      ],
      "metadata": {
        "id": "JaeIcq2o8LBc"
      }
    },
    {
      "cell_type": "markdown",
      "source": [
        "## Kelompok 4\n",
        "\n",
        "1. Siti Nurrahmasita (2108107010015)\n",
        "2. Dhaifina Alifa Putri (2108107010018)\n",
        "3. Rahmatul Idami (2108107010071)\n",
        "4. Faiza Sabila (2108107010083)\n",
        "5. Hadija Humaira (2108107010084)"
      ],
      "metadata": {
        "id": "YNOWpSVn8Alt"
      }
    },
    {
      "cell_type": "markdown",
      "source": [
        "##*Import Libraries*"
      ],
      "metadata": {
        "id": "uuH7kvfI-4vs"
      }
    },
    {
      "cell_type": "code",
      "execution_count": 9,
      "metadata": {
        "id": "nol2Zks97XVl"
      },
      "outputs": [],
      "source": [
        "import pandas as pd\n",
        "import tensorflow as tf\n",
        "import matplotlib.pyplot as plt\n",
        "from sklearn.model_selection import train_test_split\n",
        "from tensorflow.keras.preprocessing.text import Tokenizer\n",
        "from tensorflow.keras.preprocessing.sequence import pad_sequences\n",
        "from sklearn.preprocessing import LabelEncoder\n",
        "from tensorflow.keras.callbacks import EarlyStopping\n",
        "from sklearn.metrics import confusion_matrix, ConfusionMatrixDisplay, classification_report\n"
      ]
    },
    {
      "cell_type": "markdown",
      "source": [
        "##*Load Data from CSV*\n"
      ],
      "metadata": {
        "id": "lg-sp7Z8-_qt"
      }
    },
    {
      "cell_type": "code",
      "source": [
        "# Load data from CSV\n",
        "df = pd.read_csv('Emotion_classify_Data.csv')\n",
        "df.head()"
      ],
      "metadata": {
        "colab": {
          "base_uri": "https://localhost:8080/",
          "height": 206
        },
        "id": "bH9qmWR955UQ",
        "outputId": "c2c26d0a-b92f-4e02-d723-20c26b6478f9"
      },
      "execution_count": 10,
      "outputs": [
        {
          "output_type": "execute_result",
          "data": {
            "text/plain": [
              "                                             Comment Emotion\n",
              "0  i seriously hate one subject to death but now ...    fear\n",
              "1                 im so full of life i feel appalled   anger\n",
              "2  i sit here to write i start to dig out my feel...    fear\n",
              "3  ive been really angry with r and i feel like a...     joy\n",
              "4  i feel suspicious if there is no one outside l...    fear"
            ],
            "text/html": [
              "\n",
              "  <div id=\"df-c360a4c6-d5c5-4e92-948f-5a8104a15027\" class=\"colab-df-container\">\n",
              "    <div>\n",
              "<style scoped>\n",
              "    .dataframe tbody tr th:only-of-type {\n",
              "        vertical-align: middle;\n",
              "    }\n",
              "\n",
              "    .dataframe tbody tr th {\n",
              "        vertical-align: top;\n",
              "    }\n",
              "\n",
              "    .dataframe thead th {\n",
              "        text-align: right;\n",
              "    }\n",
              "</style>\n",
              "<table border=\"1\" class=\"dataframe\">\n",
              "  <thead>\n",
              "    <tr style=\"text-align: right;\">\n",
              "      <th></th>\n",
              "      <th>Comment</th>\n",
              "      <th>Emotion</th>\n",
              "    </tr>\n",
              "  </thead>\n",
              "  <tbody>\n",
              "    <tr>\n",
              "      <th>0</th>\n",
              "      <td>i seriously hate one subject to death but now ...</td>\n",
              "      <td>fear</td>\n",
              "    </tr>\n",
              "    <tr>\n",
              "      <th>1</th>\n",
              "      <td>im so full of life i feel appalled</td>\n",
              "      <td>anger</td>\n",
              "    </tr>\n",
              "    <tr>\n",
              "      <th>2</th>\n",
              "      <td>i sit here to write i start to dig out my feel...</td>\n",
              "      <td>fear</td>\n",
              "    </tr>\n",
              "    <tr>\n",
              "      <th>3</th>\n",
              "      <td>ive been really angry with r and i feel like a...</td>\n",
              "      <td>joy</td>\n",
              "    </tr>\n",
              "    <tr>\n",
              "      <th>4</th>\n",
              "      <td>i feel suspicious if there is no one outside l...</td>\n",
              "      <td>fear</td>\n",
              "    </tr>\n",
              "  </tbody>\n",
              "</table>\n",
              "</div>\n",
              "    <div class=\"colab-df-buttons\">\n",
              "\n",
              "  <div class=\"colab-df-container\">\n",
              "    <button class=\"colab-df-convert\" onclick=\"convertToInteractive('df-c360a4c6-d5c5-4e92-948f-5a8104a15027')\"\n",
              "            title=\"Convert this dataframe to an interactive table.\"\n",
              "            style=\"display:none;\">\n",
              "\n",
              "  <svg xmlns=\"http://www.w3.org/2000/svg\" height=\"24px\" viewBox=\"0 -960 960 960\">\n",
              "    <path d=\"M120-120v-720h720v720H120Zm60-500h600v-160H180v160Zm220 220h160v-160H400v160Zm0 220h160v-160H400v160ZM180-400h160v-160H180v160Zm440 0h160v-160H620v160ZM180-180h160v-160H180v160Zm440 0h160v-160H620v160Z\"/>\n",
              "  </svg>\n",
              "    </button>\n",
              "\n",
              "  <style>\n",
              "    .colab-df-container {\n",
              "      display:flex;\n",
              "      gap: 12px;\n",
              "    }\n",
              "\n",
              "    .colab-df-convert {\n",
              "      background-color: #E8F0FE;\n",
              "      border: none;\n",
              "      border-radius: 50%;\n",
              "      cursor: pointer;\n",
              "      display: none;\n",
              "      fill: #1967D2;\n",
              "      height: 32px;\n",
              "      padding: 0 0 0 0;\n",
              "      width: 32px;\n",
              "    }\n",
              "\n",
              "    .colab-df-convert:hover {\n",
              "      background-color: #E2EBFA;\n",
              "      box-shadow: 0px 1px 2px rgba(60, 64, 67, 0.3), 0px 1px 3px 1px rgba(60, 64, 67, 0.15);\n",
              "      fill: #174EA6;\n",
              "    }\n",
              "\n",
              "    .colab-df-buttons div {\n",
              "      margin-bottom: 4px;\n",
              "    }\n",
              "\n",
              "    [theme=dark] .colab-df-convert {\n",
              "      background-color: #3B4455;\n",
              "      fill: #D2E3FC;\n",
              "    }\n",
              "\n",
              "    [theme=dark] .colab-df-convert:hover {\n",
              "      background-color: #434B5C;\n",
              "      box-shadow: 0px 1px 3px 1px rgba(0, 0, 0, 0.15);\n",
              "      filter: drop-shadow(0px 1px 2px rgba(0, 0, 0, 0.3));\n",
              "      fill: #FFFFFF;\n",
              "    }\n",
              "  </style>\n",
              "\n",
              "    <script>\n",
              "      const buttonEl =\n",
              "        document.querySelector('#df-c360a4c6-d5c5-4e92-948f-5a8104a15027 button.colab-df-convert');\n",
              "      buttonEl.style.display =\n",
              "        google.colab.kernel.accessAllowed ? 'block' : 'none';\n",
              "\n",
              "      async function convertToInteractive(key) {\n",
              "        const element = document.querySelector('#df-c360a4c6-d5c5-4e92-948f-5a8104a15027');\n",
              "        const dataTable =\n",
              "          await google.colab.kernel.invokeFunction('convertToInteractive',\n",
              "                                                    [key], {});\n",
              "        if (!dataTable) return;\n",
              "\n",
              "        const docLinkHtml = 'Like what you see? Visit the ' +\n",
              "          '<a target=\"_blank\" href=https://colab.research.google.com/notebooks/data_table.ipynb>data table notebook</a>'\n",
              "          + ' to learn more about interactive tables.';\n",
              "        element.innerHTML = '';\n",
              "        dataTable['output_type'] = 'display_data';\n",
              "        await google.colab.output.renderOutput(dataTable, element);\n",
              "        const docLink = document.createElement('div');\n",
              "        docLink.innerHTML = docLinkHtml;\n",
              "        element.appendChild(docLink);\n",
              "      }\n",
              "    </script>\n",
              "  </div>\n",
              "\n",
              "\n",
              "<div id=\"df-bcab1939-4a85-4c22-8423-999d350cd20d\">\n",
              "  <button class=\"colab-df-quickchart\" onclick=\"quickchart('df-bcab1939-4a85-4c22-8423-999d350cd20d')\"\n",
              "            title=\"Suggest charts\"\n",
              "            style=\"display:none;\">\n",
              "\n",
              "<svg xmlns=\"http://www.w3.org/2000/svg\" height=\"24px\"viewBox=\"0 0 24 24\"\n",
              "     width=\"24px\">\n",
              "    <g>\n",
              "        <path d=\"M19 3H5c-1.1 0-2 .9-2 2v14c0 1.1.9 2 2 2h14c1.1 0 2-.9 2-2V5c0-1.1-.9-2-2-2zM9 17H7v-7h2v7zm4 0h-2V7h2v10zm4 0h-2v-4h2v4z\"/>\n",
              "    </g>\n",
              "</svg>\n",
              "  </button>\n",
              "\n",
              "<style>\n",
              "  .colab-df-quickchart {\n",
              "      --bg-color: #E8F0FE;\n",
              "      --fill-color: #1967D2;\n",
              "      --hover-bg-color: #E2EBFA;\n",
              "      --hover-fill-color: #174EA6;\n",
              "      --disabled-fill-color: #AAA;\n",
              "      --disabled-bg-color: #DDD;\n",
              "  }\n",
              "\n",
              "  [theme=dark] .colab-df-quickchart {\n",
              "      --bg-color: #3B4455;\n",
              "      --fill-color: #D2E3FC;\n",
              "      --hover-bg-color: #434B5C;\n",
              "      --hover-fill-color: #FFFFFF;\n",
              "      --disabled-bg-color: #3B4455;\n",
              "      --disabled-fill-color: #666;\n",
              "  }\n",
              "\n",
              "  .colab-df-quickchart {\n",
              "    background-color: var(--bg-color);\n",
              "    border: none;\n",
              "    border-radius: 50%;\n",
              "    cursor: pointer;\n",
              "    display: none;\n",
              "    fill: var(--fill-color);\n",
              "    height: 32px;\n",
              "    padding: 0;\n",
              "    width: 32px;\n",
              "  }\n",
              "\n",
              "  .colab-df-quickchart:hover {\n",
              "    background-color: var(--hover-bg-color);\n",
              "    box-shadow: 0 1px 2px rgba(60, 64, 67, 0.3), 0 1px 3px 1px rgba(60, 64, 67, 0.15);\n",
              "    fill: var(--button-hover-fill-color);\n",
              "  }\n",
              "\n",
              "  .colab-df-quickchart-complete:disabled,\n",
              "  .colab-df-quickchart-complete:disabled:hover {\n",
              "    background-color: var(--disabled-bg-color);\n",
              "    fill: var(--disabled-fill-color);\n",
              "    box-shadow: none;\n",
              "  }\n",
              "\n",
              "  .colab-df-spinner {\n",
              "    border: 2px solid var(--fill-color);\n",
              "    border-color: transparent;\n",
              "    border-bottom-color: var(--fill-color);\n",
              "    animation:\n",
              "      spin 1s steps(1) infinite;\n",
              "  }\n",
              "\n",
              "  @keyframes spin {\n",
              "    0% {\n",
              "      border-color: transparent;\n",
              "      border-bottom-color: var(--fill-color);\n",
              "      border-left-color: var(--fill-color);\n",
              "    }\n",
              "    20% {\n",
              "      border-color: transparent;\n",
              "      border-left-color: var(--fill-color);\n",
              "      border-top-color: var(--fill-color);\n",
              "    }\n",
              "    30% {\n",
              "      border-color: transparent;\n",
              "      border-left-color: var(--fill-color);\n",
              "      border-top-color: var(--fill-color);\n",
              "      border-right-color: var(--fill-color);\n",
              "    }\n",
              "    40% {\n",
              "      border-color: transparent;\n",
              "      border-right-color: var(--fill-color);\n",
              "      border-top-color: var(--fill-color);\n",
              "    }\n",
              "    60% {\n",
              "      border-color: transparent;\n",
              "      border-right-color: var(--fill-color);\n",
              "    }\n",
              "    80% {\n",
              "      border-color: transparent;\n",
              "      border-right-color: var(--fill-color);\n",
              "      border-bottom-color: var(--fill-color);\n",
              "    }\n",
              "    90% {\n",
              "      border-color: transparent;\n",
              "      border-bottom-color: var(--fill-color);\n",
              "    }\n",
              "  }\n",
              "</style>\n",
              "\n",
              "  <script>\n",
              "    async function quickchart(key) {\n",
              "      const quickchartButtonEl =\n",
              "        document.querySelector('#' + key + ' button');\n",
              "      quickchartButtonEl.disabled = true;  // To prevent multiple clicks.\n",
              "      quickchartButtonEl.classList.add('colab-df-spinner');\n",
              "      try {\n",
              "        const charts = await google.colab.kernel.invokeFunction(\n",
              "            'suggestCharts', [key], {});\n",
              "      } catch (error) {\n",
              "        console.error('Error during call to suggestCharts:', error);\n",
              "      }\n",
              "      quickchartButtonEl.classList.remove('colab-df-spinner');\n",
              "      quickchartButtonEl.classList.add('colab-df-quickchart-complete');\n",
              "    }\n",
              "    (() => {\n",
              "      let quickchartButtonEl =\n",
              "        document.querySelector('#df-bcab1939-4a85-4c22-8423-999d350cd20d button');\n",
              "      quickchartButtonEl.style.display =\n",
              "        google.colab.kernel.accessAllowed ? 'block' : 'none';\n",
              "    })();\n",
              "  </script>\n",
              "</div>\n",
              "    </div>\n",
              "  </div>\n"
            ],
            "application/vnd.google.colaboratory.intrinsic+json": {
              "type": "dataframe",
              "variable_name": "df",
              "summary": "{\n  \"name\": \"df\",\n  \"rows\": 5937,\n  \"fields\": [\n    {\n      \"column\": \"Comment\",\n      \"properties\": {\n        \"dtype\": \"string\",\n        \"num_unique_values\": 5934,\n        \"samples\": [\n          \"i male are stupid first for woman cry babies and should get over it and you feel really cool for putting the stupid men in their place\",\n          \"im feeling queezy and cant be bothered putting these in order so here goes\",\n          \"i feel completely agitated\"\n        ],\n        \"semantic_type\": \"\",\n        \"description\": \"\"\n      }\n    },\n    {\n      \"column\": \"Emotion\",\n      \"properties\": {\n        \"dtype\": \"category\",\n        \"num_unique_values\": 3,\n        \"samples\": [\n          \"fear\",\n          \"anger\",\n          \"joy\"\n        ],\n        \"semantic_type\": \"\",\n        \"description\": \"\"\n      }\n    }\n  ]\n}"
            }
          },
          "metadata": {},
          "execution_count": 10
        }
      ]
    },
    {
      "cell_type": "markdown",
      "source": [
        "##*Preprocessing*\n"
      ],
      "metadata": {
        "id": "CfxG0K8P_FxP"
      }
    },
    {
      "cell_type": "markdown",
      "source": [
        "**Pengecekan Tipe Data**"
      ],
      "metadata": {
        "id": "mEhwziNS_Rpr"
      }
    },
    {
      "cell_type": "code",
      "source": [
        "df.info()"
      ],
      "metadata": {
        "colab": {
          "base_uri": "https://localhost:8080/"
        },
        "id": "2WakuXP26hU3",
        "outputId": "d72af759-5ee0-4600-de2a-76d6ab956ae5"
      },
      "execution_count": 11,
      "outputs": [
        {
          "output_type": "stream",
          "name": "stdout",
          "text": [
            "<class 'pandas.core.frame.DataFrame'>\n",
            "RangeIndex: 5937 entries, 0 to 5936\n",
            "Data columns (total 2 columns):\n",
            " #   Column   Non-Null Count  Dtype \n",
            "---  ------   --------------  ----- \n",
            " 0   Comment  5937 non-null   object\n",
            " 1   Emotion  5937 non-null   object\n",
            "dtypes: object(2)\n",
            "memory usage: 92.9+ KB\n"
          ]
        }
      ]
    },
    {
      "cell_type": "markdown",
      "source": [
        "**Pengecekan diplikat**"
      ],
      "metadata": {
        "id": "tyTkJ_VI_eA9"
      }
    },
    {
      "cell_type": "code",
      "source": [
        "df.duplicated().sum()"
      ],
      "metadata": {
        "colab": {
          "base_uri": "https://localhost:8080/"
        },
        "id": "d1k2M5PZ6kEn",
        "outputId": "56cdfe40-5d65-448b-bdec-ff5524b1e12b"
      },
      "execution_count": 12,
      "outputs": [
        {
          "output_type": "execute_result",
          "data": {
            "text/plain": [
              "0"
            ]
          },
          "metadata": {},
          "execution_count": 12
        }
      ]
    },
    {
      "cell_type": "markdown",
      "source": [
        "**Pengecekan nilai hilang**"
      ],
      "metadata": {
        "id": "0k-cPwTh_rdR"
      }
    },
    {
      "cell_type": "code",
      "source": [
        "df.isna().sum()"
      ],
      "metadata": {
        "colab": {
          "base_uri": "https://localhost:8080/"
        },
        "id": "_RYTs3X86trA",
        "outputId": "77155760-a8ef-4e06-fde2-c4c800433bd1"
      },
      "execution_count": 13,
      "outputs": [
        {
          "output_type": "execute_result",
          "data": {
            "text/plain": [
              "Comment    0\n",
              "Emotion    0\n",
              "dtype: int64"
            ]
          },
          "metadata": {},
          "execution_count": 13
        }
      ]
    },
    {
      "cell_type": "markdown",
      "source": [
        "**Pengecekan distribusi data disetiap label**"
      ],
      "metadata": {
        "id": "Hz1pQ6y2_zqG"
      }
    },
    {
      "cell_type": "code",
      "source": [
        "# Menghitung distribusi label\n",
        "label_counts = df['Emotion'].value_counts()\n",
        "\n",
        "# Menampilkan distribusi label dalam bentuk grafik\n",
        "label_counts.plot(kind='bar', color='skyblue')\n",
        "plt.title('Distribusi Label')\n",
        "plt.xlabel('Label')\n",
        "plt.ylabel('Jumlah Data')\n",
        "plt.show()"
      ],
      "metadata": {
        "colab": {
          "base_uri": "https://localhost:8080/",
          "height": 498
        },
        "id": "mL1NHwNF35eK",
        "outputId": "dd09a7db-4f99-4909-b5d7-6852581f41a1"
      },
      "execution_count": 14,
      "outputs": [
        {
          "output_type": "display_data",
          "data": {
            "text/plain": [
              "<Figure size 640x480 with 1 Axes>"
            ],
            "image/png": "[encoded data removed]"
          },
          "metadata": {}
        }
      ]
    },
    {
      "cell_type": "markdown",
      "source": [
        "**Tokenisasi teks**"
      ],
      "metadata": {
        "id": "hg9Uwp1A_9ey"
      }
    },
    {
      "cell_type": "code",
      "source": [
        "# Tokenize text\n",
        "tokenizer = Tokenizer()\n",
        "tokenizer.fit_on_texts(df['Comment'])\n",
        "X = tokenizer.texts_to_sequences(df['Comment'])\n",
        "X = pad_sequences(X)"
      ],
      "metadata": {
        "id": "MaRhzhWj6OfI"
      },
      "execution_count": 15,
      "outputs": []
    },
    {
      "cell_type": "markdown",
      "source": [
        "**Mengonversi label**"
      ],
      "metadata": {
        "id": "Ykiq4GIMAVXx"
      }
    },
    {
      "cell_type": "code",
      "source": [
        "# Encode labels\n",
        "label_encoder = LabelEncoder()\n",
        "y = label_encoder.fit_transform(df['Emotion'])"
      ],
      "metadata": {
        "id": "pJFfRwAW6Ro-"
      },
      "execution_count": 16,
      "outputs": []
    },
    {
      "cell_type": "markdown",
      "source": [
        "##*Membangun Model*"
      ],
      "metadata": {
        "id": "HCzhOfaoAfSA"
      }
    },
    {
      "cell_type": "code",
      "source": [
        "# Split data into training and test sets\n",
        "X_train, X_test, y_train, y_test = train_test_split(X, y, test_size=0.2, random_state=42)\n",
        "\n",
        "# Define the model\n",
        "model = tf.keras.Sequential([\n",
        "    tf.keras.layers.Embedding(len(tokenizer.word_index) + 1, 128),\n",
        "    tf.keras.layers.GlobalAveragePooling1D(),\n",
        "    tf.keras.layers.Dense(64, activation='relu'),\n",
        "    tf.keras.layers.Dropout(0.5),  # Dropout layer to reduce overfitting\n",
        "    tf.keras.layers.Dense(4, activation='softmax')\n",
        "])\n",
        "\n",
        "# Compile the model\n",
        "model.compile(loss='sparse_categorical_crossentropy', optimizer='adam', metrics=['accuracy'])\n",
        "\n",
        "# Early stopping callback to stop training when there is no improvement\n",
        "early_stopping = EarlyStopping(monitor='val_loss', patience=5, restore_best_weights=True)\n",
        "\n",
        "# Train the model\n",
        "history = model.fit(X_train, y_train, epochs=50, validation_data=(X_test, y_test), callbacks=[early_stopping])\n",
        "\n",
        "# Evaluate the model\n",
        "loss, accuracy = model.evaluate(X_test, y_test)\n",
        "print(\"Test Accuracy: {:.2f}%\".format(accuracy * 100))\n"
      ],
      "metadata": {
        "colab": {
          "base_uri": "https://localhost:8080/"
        },
        "id": "Ew4V4LUA6UqZ",
        "outputId": "aa538fd1-0186-46a8-8843-8c269730095f"
      },
      "execution_count": 17,
      "outputs": [
        {
          "output_type": "stream",
          "name": "stdout",
          "text": [
            "Epoch 1/50\n",
            "149/149 [==============================] - 4s 23ms/step - loss: 1.2082 - accuracy: 0.3405 - val_loss: 1.1106 - val_accuracy: 0.3493\n",
            "Epoch 2/50\n",
            "149/149 [==============================] - 3s 22ms/step - loss: 1.1278 - accuracy: 0.3487 - val_loss: 1.0861 - val_accuracy: 0.4301\n",
            "Epoch 3/50\n",
            "149/149 [==============================] - 5s 32ms/step - loss: 1.0730 - accuracy: 0.4323 - val_loss: 1.0310 - val_accuracy: 0.5505\n",
            "Epoch 4/50\n",
            "149/149 [==============================] - 3s 21ms/step - loss: 0.9185 - accuracy: 0.6313 - val_loss: 0.8117 - val_accuracy: 0.7988\n",
            "Epoch 5/50\n",
            "149/149 [==============================] - 3s 21ms/step - loss: 0.6017 - accuracy: 0.8311 - val_loss: 0.5201 - val_accuracy: 0.8872\n",
            "Epoch 6/50\n",
            "149/149 [==============================] - 3s 20ms/step - loss: 0.3297 - accuracy: 0.9324 - val_loss: 0.3541 - val_accuracy: 0.9040\n",
            "Epoch 7/50\n",
            "149/149 [==============================] - 5s 32ms/step - loss: 0.1896 - accuracy: 0.9657 - val_loss: 0.2665 - val_accuracy: 0.9226\n",
            "Epoch 8/50\n",
            "149/149 [==============================] - 3s 23ms/step - loss: 0.1320 - accuracy: 0.9766 - val_loss: 0.2309 - val_accuracy: 0.9285\n",
            "Epoch 9/50\n",
            "149/149 [==============================] - 3s 21ms/step - loss: 0.0984 - accuracy: 0.9827 - val_loss: 0.2103 - val_accuracy: 0.9285\n",
            "Epoch 10/50\n",
            "149/149 [==============================] - 4s 25ms/step - loss: 0.0720 - accuracy: 0.9882 - val_loss: 0.2148 - val_accuracy: 0.9209\n",
            "Epoch 11/50\n",
            "149/149 [==============================] - 5s 35ms/step - loss: 0.0633 - accuracy: 0.9891 - val_loss: 0.1950 - val_accuracy: 0.9335\n",
            "Epoch 12/50\n",
            "149/149 [==============================] - 3s 21ms/step - loss: 0.0546 - accuracy: 0.9907 - val_loss: 0.1865 - val_accuracy: 0.9352\n",
            "Epoch 13/50\n",
            "149/149 [==============================] - 3s 22ms/step - loss: 0.0480 - accuracy: 0.9914 - val_loss: 0.1931 - val_accuracy: 0.9310\n",
            "Epoch 14/50\n",
            "149/149 [==============================] - 3s 23ms/step - loss: 0.0428 - accuracy: 0.9920 - val_loss: 0.1883 - val_accuracy: 0.9352\n",
            "Epoch 15/50\n",
            "149/149 [==============================] - 4s 29ms/step - loss: 0.0368 - accuracy: 0.9941 - val_loss: 0.1886 - val_accuracy: 0.9327\n",
            "Epoch 16/50\n",
            "149/149 [==============================] - 3s 23ms/step - loss: 0.0351 - accuracy: 0.9939 - val_loss: 0.1963 - val_accuracy: 0.9327\n",
            "Epoch 17/50\n",
            "149/149 [==============================] - 3s 22ms/step - loss: 0.0316 - accuracy: 0.9943 - val_loss: 0.2044 - val_accuracy: 0.9268\n",
            "38/38 [==============================] - 0s 4ms/step - loss: 0.1865 - accuracy: 0.9352\n",
            "Test Accuracy: 93.52%\n"
          ]
        }
      ]
    },
    {
      "cell_type": "markdown",
      "source": [
        "##*Menyimpan tokenisasi dan konversi label*\n"
      ],
      "metadata": {
        "id": "2mdmK_n4AkiC"
      }
    },
    {
      "cell_type": "code",
      "source": [
        "import pickle\n",
        "\n",
        "# Save the tokenizer\n",
        "tokenizer_path = 'tokenizer.h5'\n",
        "with open(tokenizer_path, 'wb') as file:\n",
        "    pickle.dump(tokenizer, file)\n",
        "\n",
        "# Save the label encoder\n",
        "label_encoder_path = 'label_encoder.h5'\n",
        "with open(label_encoder_path, 'wb') as file:\n",
        "    pickle.dump(label_encoder, file)\n"
      ],
      "metadata": {
        "id": "G9xwOvZNu39R"
      },
      "execution_count": 18,
      "outputs": []
    },
    {
      "cell_type": "markdown",
      "source": [
        "##*Menyimpan model*"
      ],
      "metadata": {
        "id": "Mnq_VX4VAsf1"
      }
    },
    {
      "cell_type": "code",
      "source": [
        "# Menyimpan model ke dalam file .h5\n",
        "model.save('text_classification.h5')"
      ],
      "metadata": {
        "colab": {
          "base_uri": "https://localhost:8080/"
        },
        "id": "L2A1fhRMu6eg",
        "outputId": "97c3223d-a249-4cdc-fac7-4e233c366ec4"
      },
      "execution_count": 19,
      "outputs": [
        {
          "output_type": "stream",
          "name": "stderr",
          "text": [
            "/usr/local/lib/python3.10/dist-packages/keras/src/engine/training.py:3103: UserWarning: You are saving your model as an HDF5 file via `model.save()`. This file format is considered legacy. We recommend using instead the native Keras format, e.g. `model.save('my_model.keras')`.\n",
            "  saving_api.save_model(\n"
          ]
        }
      ]
    },
    {
      "cell_type": "code",
      "source": [
        "# Plotting training & validation accuracy values\n",
        "plt.figure(figsize=(12, 4))\n",
        "\n",
        "plt.subplot(1, 2, 1)\n",
        "plt.plot(history.history['accuracy'])\n",
        "plt.plot(history.history['val_accuracy'])\n",
        "plt.title('Model accuracy')\n",
        "plt.ylabel('Accuracy')\n",
        "plt.xlabel('Epoch')\n",
        "plt.legend(['Train', 'Validation'], loc='upper left')\n",
        "\n",
        "# Plotting training & validation loss values\n",
        "plt.subplot(1, 2, 2)\n",
        "plt.plot(history.history['loss'])\n",
        "plt.plot(history.history['val_loss'])\n",
        "plt.title('Model loss')\n",
        "plt.ylabel('Loss')\n",
        "plt.xlabel('Epoch')\n",
        "plt.legend(['Train', 'Validation'], loc='upper left')\n",
        "\n",
        "plt.tight_layout()\n",
        "plt.show()\n"
      ],
      "metadata": {
        "colab": {
          "base_uri": "https://localhost:8080/",
          "height": 407
        },
        "id": "RTvm7mCv3S-5",
        "outputId": "3bdb5004-2edc-4182-f1dc-1e4d41d05b63"
      },
      "execution_count": 20,
      "outputs": [
        {
          "output_type": "display_data",
          "data": {
            "text/plain": [
              "<Figure size 1200x400 with 2 Axes>"
            ],
            "image/png": "[encoded data removed]"
          },
          "metadata": {}
        }
      ]
    },
    {
      "cell_type": "code",
      "source": [
        "# Memprediksi label pada set uji\n",
        "y_pred = model.predict(X_test)\n",
        "y_pred_classes = y_pred.argmax(axis=1)\n",
        "\n",
        "# Membuat confusion matrix\n",
        "cm = confusion_matrix(y_test, y_pred_classes)\n",
        "\n",
        "# Menampilkan confusion matrix dengan ConfusionMatrixDisplay\n",
        "disp = ConfusionMatrixDisplay(confusion_matrix=cm, display_labels=label_encoder.classes_)\n",
        "disp.plot(cmap=plt.cm.Blues)\n",
        "plt.show()\n"
      ],
      "metadata": {
        "colab": {
          "base_uri": "https://localhost:8080/",
          "height": 466
        },
        "id": "cGMwu69r2oQI",
        "outputId": "5566cee8-bbb5-4290-ae17-dd1b77fbb805"
      },
      "execution_count": 21,
      "outputs": [
        {
          "output_type": "stream",
          "name": "stdout",
          "text": [
            "38/38 [==============================] - 0s 3ms/step\n"
          ]
        },
        {
          "output_type": "display_data",
          "data": {
            "text/plain": [
              "<Figure size 640x480 with 2 Axes>"
            ],
            "image/png": "[encoded data removed]"
          },
          "metadata": {}
        }
      ]
    },
    {
      "cell_type": "code",
      "source": [
        "# Memprediksi label pada set uji\n",
        "y_pred = model.predict(X_test)\n",
        "y_pred_classes = y_pred.argmax(axis=1)\n",
        "\n",
        "# Mencetak laporan klasifikasi\n",
        "report = classification_report(y_test, y_pred_classes, target_names=label_encoder.classes_)\n",
        "print(report)\n"
      ],
      "metadata": {
        "colab": {
          "base_uri": "https://localhost:8080/"
        },
        "id": "l2BbDIyr3fOT",
        "outputId": "915c1a1c-271a-46b0-f43b-f90dd611b6b8"
      },
      "execution_count": 22,
      "outputs": [
        {
          "output_type": "stream",
          "name": "stdout",
          "text": [
            "38/38 [==============================] - 0s 2ms/step\n",
            "              precision    recall  f1-score   support\n",
            "\n",
            "       anger       0.92      0.95      0.93       392\n",
            "        fear       0.94      0.93      0.94       416\n",
            "         joy       0.94      0.93      0.93       380\n",
            "\n",
            "    accuracy                           0.94      1188\n",
            "   macro avg       0.94      0.94      0.94      1188\n",
            "weighted avg       0.94      0.94      0.94      1188\n",
            "\n"
          ]
        }
      ]
    },
    {
      "cell_type": "code",
      "source": [
        "# Contoh data baru\n",
        "new_data = [\n",
        "    'I sat down on the bench and saw them looking at me, all looking suspicious',\n",
        "    'I get a car from my mom for my birthday',\n",
        "    'I feel jealous because i got b in my math test'\n",
        "\n",
        "]\n",
        "\n",
        "# Tokenisasi dan padding data baru\n",
        "new_sequences = tokenizer.texts_to_sequences(new_data)\n",
        "new_padded = pad_sequences(new_sequences, maxlen=X.shape[1])\n",
        "\n",
        "# Prediksi emosi\n",
        "predictions = model.predict(new_padded)\n",
        "\n",
        "# Decode label prediksi\n",
        "predicted_labels = label_encoder.inverse_transform([tf.argmax(prediction).numpy() for prediction in predictions])\n",
        "\n",
        "# Tampilkan hasil prediksi\n",
        "for text, label in zip(new_data, predicted_labels):\n",
        "    print(f\"Text: {text} -> Predicted Emotion: {label}\")\n"
      ],
      "metadata": {
        "colab": {
          "base_uri": "https://localhost:8080/"
        },
        "id": "DVt2oiJj7RiY",
        "outputId": "c96a79f6-336e-4cc4-cc49-2541d39003b1"
      },
      "execution_count": 23,
      "outputs": [
        {
          "output_type": "stream",
          "name": "stdout",
          "text": [
            "1/1 [==============================] - 0s 26ms/step\n",
            "Text: I sat down on the bench and saw them looking at me, all looking suspicious -> Predicted Emotion: fear\n",
            "Text: I get a car from my mom for my birthday -> Predicted Emotion: joy\n",
            "Text: I feel jealous because i got b in my math test -> Predicted Emotion: anger\n"
          ]
        }
      ]
    },
    {
      "cell_type": "code",
      "source": [],
      "metadata": {
        "id": "Qb0teH2-D1AO"
      },
      "execution_count": 23,
      "outputs": []
    }
  ]
}